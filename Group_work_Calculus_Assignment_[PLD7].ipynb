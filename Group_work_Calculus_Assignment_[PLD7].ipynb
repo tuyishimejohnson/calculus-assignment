{
  "nbformat": 4,
  "nbformat_minor": 0,
  "metadata": {
    "colab": {
      "provenance": [],
      "include_colab_link": true
    },
    "kernelspec": {
      "name": "python3",
      "display_name": "Python 3"
    },
    "language_info": {
      "name": "python"
    }
  },
  "cells": [
    {
      "cell_type": "markdown",
      "metadata": {
        "id": "view-in-github",
        "colab_type": "text"
      },
      "source": [
        "<a href=\"https://colab.research.google.com/github/tuyishimejohnson/calculus-assignment/blob/main/Group_work_Calculus_Assignment_%5BPLD7%5D.ipynb\" target=\"_parent\"><img src=\"https://colab.research.google.com/assets/colab-badge.svg\" alt=\"Open In Colab\"/></a>"
      ]
    },
    {
      "cell_type": "markdown",
      "source": [
        "# Task 1: Write a dynamic function to find the derivative of any function f(x)"
      ],
      "metadata": {
        "id": "ujuLMxSvoXbg"
      }
    },
    {
      "cell_type": "code",
      "source": [
        "#TO DO: Create a function that does a derivative for any function\n",
        "import sympy as smp\n",
        "\n",
        "def dy_dx(eqn):\n",
        "  # 2x^2 + 4x + 6\n",
        "  # x^4 + 3x^3 + 45x^2\n",
        "  x = smp.symbols('x')\n",
        "  fun = smp.sympify(eqn)\n",
        "  return smp.diff(fun, x)\n"
      ],
      "metadata": {
        "id": "wGCnpzs9M4Fd"
      },
      "execution_count": null,
      "outputs": []
    },
    {
      "cell_type": "markdown",
      "source": [
        "# Task 2: Test the derivative function written with an equation of your choice\n",
        "*NB: Must have atleast 2 minimas and atleast 2 maximas*"
      ],
      "metadata": {
        "id": "tRiw95LZoeVq"
      }
    },
    {
      "cell_type": "code",
      "source": [
        "def f(x):\n",
        "  return dy_dx(x)\n",
        "\n",
        "eqn = \"x**6 - 15*x**4 + 27*x**2 - 10\"\n",
        "f(eqn)\n"
      ],
      "metadata": {
        "id": "SLFq1uf4NMy_",
        "colab": {
          "base_uri": "https://localhost:8080/",
          "height": 39
        },
        "outputId": "7d15275b-0734-4ed4-f1b5-3c45ab332be4"
      },
      "execution_count": null,
      "outputs": [
        {
          "output_type": "execute_result",
          "data": {
            "text/plain": [
              "6*x**5 - 60*x**3 + 54*x"
            ],
            "text/latex": "$\\displaystyle 6 x^{5} - 60 x^{3} + 54 x$"
          },
          "metadata": {},
          "execution_count": 38
        }
      ]
    },
    {
      "cell_type": "markdown",
      "source": [
        "#Task 3: Plot a graph of the Equation must have 4 points (2 minimas and 2 maximas)"
      ],
      "metadata": {
        "id": "fvDN-PJQopAQ"
      }
    },
    {
      "cell_type": "code",
      "source": [
        "import matplotlib.pyplot as plt\n",
        "import numpy as np\n",
        "\n",
        "def f(x):\n",
        "  return x**6 - 15*x**4 + 27*x**2 - 10\n",
        "\n",
        "#Create a visualization of the quadratic equation\n",
        "x_val = np.linspace(-4, 4, 400)\n",
        "y_val = f(x_val)\n",
        "\n",
        "plt.plot(x_val, y_val)\n",
        "plt.grid(True)\n",
        "plt.xlim(-5, 5)\n",
        "plt.ylim(-500, 500)\n",
        "plt.show()\n"
      ],
      "metadata": {
        "id": "JtB6-187NV_R",
        "colab": {
          "base_uri": "https://localhost:8080/",
          "height": 430
        },
        "outputId": "5c464dd7-551b-4933-ccca-1b868d6962f6"
      },
      "execution_count": null,
      "outputs": [
        {
          "output_type": "display_data",
          "data": {
            "text/plain": [
              "<Figure size 640x480 with 1 Axes>"
            ],
            "image/png": "[encoded data removed]"
          },
          "metadata": {}
        }
      ]
    },
    {
      "cell_type": "markdown",
      "source": [
        "# Task 4: Create separate array of Minimas and maximas"
      ],
      "metadata": {
        "id": "bwZIpdMYouWY"
      }
    },
    {
      "cell_type": "code",
      "source": [
        "arr_minimas = []\n",
        "arr_maximas = []\n",
        "\n",
        "der = dy_dx(eqn)\n",
        "critical = smp.solve(der)\n",
        "\n",
        "for point in critical:\n",
        "  if point > 0:\n",
        "    arr_maximas.append(point)\n",
        "  elif point < 0:\n",
        "    arr_minimas.append(point)\n",
        "\n",
        "print(f'the array of minimas {arr_minimas} and the array of maximas is {arr_maximas}')"
      ],
      "metadata": {
        "id": "0ytRvgytN3st",
        "colab": {
          "base_uri": "https://localhost:8080/"
        },
        "outputId": "7cde9fb0-a1ee-4782-d7ef-6a2304401e34"
      },
      "execution_count": null,
      "outputs": [
        {
          "output_type": "stream",
          "name": "stdout",
          "text": [
            "the array of minimas [-3, -1] and the array of maximas is [1, 3]\n"
          ]
        }
      ]
    },
    {
      "cell_type": "code",
      "source": [
        "Global_maxima =  max(arr_maximas, key=lambda point: f(point.evalf()))\n",
        "\n",
        "Global_minima =  min(arr_minimas, key=lambda point: f(point.evalf()))\n",
        "\n",
        "print(f'The global maxima is {Global_maxima}')\n",
        "\n",
        "print(f'The global minima is {Global_minima}')"
      ],
      "metadata": {
        "id": "vaWQwmEHiRe8",
        "colab": {
          "base_uri": "https://localhost:8080/"
        },
        "outputId": "85dc7957-cb1b-476a-804f-65d1689588a1"
      },
      "execution_count": null,
      "outputs": [
        {
          "output_type": "stream",
          "name": "stdout",
          "text": [
            "The global maxima is 1\n",
            "The global minima is -3\n"
          ]
        }
      ]
    },
    {
      "cell_type": "markdown",
      "source": [
        "#Finally, What is the global Minima and the Global maxima _ Plot this so that we can visualize"
      ],
      "metadata": {
        "id": "hMyJ1weqo0ZR"
      }
    },
    {
      "cell_type": "code",
      "source": [
        "plt.plot(Global_maxima, f(Global_maxima), 'go')\n",
        "plt.plot(Global_minima, f(Global_minima), 'bo')\n",
        "plt.plot(x_val, y_val)\n",
        "plt.show()\n"
      ],
      "metadata": {
        "colab": {
          "base_uri": "https://localhost:8080/",
          "height": 430
        },
        "id": "qX_sl_G24yGM",
        "outputId": "dbd83514-75cd-4d7c-a470-af0d484780c6"
      },
      "execution_count": null,
      "outputs": [
        {
          "output_type": "display_data",
          "data": {
            "text/plain": [
              "<Figure size 640x480 with 1 Axes>"
            ],
            "image/png": "[encoded data removed]"
          },
          "metadata": {}
        }
      ]
    },
    {
      "cell_type": "markdown",
      "source": [
        "# Things trhat may help\n",
        "\n",
        "We came up with a functon\n",
        "\n",
        "$$\n",
        "f(x) = 4x^2 + x^-1\n",
        "$$\n",
        "\n",
        "So we create a fucntion in python\n",
        "\n",
        "\n",
        "\n",
        "```\n",
        "def f(x):\n",
        "  #see our code below\n",
        "```\n",
        "\n"
      ],
      "metadata": {
        "id": "W9qLLf9Ei8G7"
      }
    },
    {
      "cell_type": "code",
      "execution_count": null,
      "metadata": {
        "id": "D8SOdxIBc1H9"
      },
      "outputs": [],
      "source": [
        "#This is an Example of a quadratic function\n",
        "def f(x):\n",
        "   return (4 * (x** 2)) + (x ** -1)"
      ]
    },
    {
      "cell_type": "markdown",
      "source": [
        "We manuall calculated the derivative  and got that\n",
        "$$\n",
        "df(x)/dx = 8x^1 + x^-2\n",
        "$$\n",
        "\n",
        "Using the formula above we find points where the derivative is 0\n",
        "\n",
        "the values are:\n",
        "\n",
        "$$\n",
        "x1 = 0.5, x1 = - 0.5,x1 = 0,\n",
        "$$\n",
        "\n",
        "If you replace this in our original formula\n",
        "\n",
        "$$\n",
        "f(0.5) = 4(0.5)^2 + (0.5^-1 = -1.0\n",
        "$$\n",
        "$$\n",
        "f(0) = 4x^2 + x^-1 = No solution\n",
        "$$\n",
        "$$\n",
        "f(-0.5) = 4x^2 + x^-1 = 1\n",
        "$$\n",
        "\n",
        "Meaning our curve is flat at point $$(0.5,1) $$ and at $$ (-0.5,1)$$\n",
        "\n",
        "Proof Pending........\n",
        "\n",
        "Here is how we tried with code and got some errors"
      ],
      "metadata": {
        "id": "YdEAhWv2i1wU"
      }
    },
    {
      "cell_type": "code",
      "source": [
        "\n",
        "\n",
        "x1 = 0.5\n",
        "x2 = -0.5\n",
        "x3 = 0\n",
        "\n",
        "y1 = f(x1)\n",
        "y2 = f(x2)\n",
        "y3 = f(x3)\n",
        "\n",
        "print(y2)\n",
        "(0.5,3)\n"
      ],
      "metadata": {
        "colab": {
          "base_uri": "https://localhost:8080/",
          "height": 331
        },
        "id": "BSsC7fL8fX-7",
        "outputId": "f96b9621-ef3d-42e7-d7e9-b7b102a5363e"
      },
      "execution_count": null,
      "outputs": [
        {
          "output_type": "error",
          "ename": "ZeroDivisionError",
          "evalue": "0.0 cannot be raised to a negative power",
          "traceback": [
            "\u001b[0;31m---------------------------------------------------------------------------\u001b[0m",
            "\u001b[0;31mZeroDivisionError\u001b[0m                         Traceback (most recent call last)",
            "\u001b[0;32m<ipython-input-3-2d333f00018d>\u001b[0m in \u001b[0;36m<cell line: 7>\u001b[0;34m()\u001b[0m\n\u001b[1;32m      5\u001b[0m \u001b[0my1\u001b[0m \u001b[0;34m=\u001b[0m \u001b[0mf\u001b[0m\u001b[0;34m(\u001b[0m\u001b[0mx1\u001b[0m\u001b[0;34m)\u001b[0m\u001b[0;34m\u001b[0m\u001b[0;34m\u001b[0m\u001b[0m\n\u001b[1;32m      6\u001b[0m \u001b[0my2\u001b[0m \u001b[0;34m=\u001b[0m \u001b[0mf\u001b[0m\u001b[0;34m(\u001b[0m\u001b[0mx2\u001b[0m\u001b[0;34m)\u001b[0m\u001b[0;34m\u001b[0m\u001b[0;34m\u001b[0m\u001b[0m\n\u001b[0;32m----> 7\u001b[0;31m \u001b[0my3\u001b[0m \u001b[0;34m=\u001b[0m \u001b[0mf\u001b[0m\u001b[0;34m(\u001b[0m\u001b[0mx3\u001b[0m\u001b[0;34m)\u001b[0m\u001b[0;34m\u001b[0m\u001b[0;34m\u001b[0m\u001b[0m\n\u001b[0m\u001b[1;32m      8\u001b[0m \u001b[0;34m\u001b[0m\u001b[0m\n\u001b[1;32m      9\u001b[0m \u001b[0mprint\u001b[0m\u001b[0;34m(\u001b[0m\u001b[0my2\u001b[0m\u001b[0;34m)\u001b[0m\u001b[0;34m\u001b[0m\u001b[0;34m\u001b[0m\u001b[0m\n",
            "\u001b[0;32m<ipython-input-1-6a316e2d262c>\u001b[0m in \u001b[0;36mf\u001b[0;34m(x)\u001b[0m\n\u001b[1;32m      1\u001b[0m \u001b[0;31m#This is an Example of a quadratic function\u001b[0m\u001b[0;34m\u001b[0m\u001b[0;34m\u001b[0m\u001b[0m\n\u001b[1;32m      2\u001b[0m \u001b[0;32mdef\u001b[0m \u001b[0mf\u001b[0m\u001b[0;34m(\u001b[0m\u001b[0mx\u001b[0m\u001b[0;34m)\u001b[0m\u001b[0;34m:\u001b[0m\u001b[0;34m\u001b[0m\u001b[0;34m\u001b[0m\u001b[0m\n\u001b[0;32m----> 3\u001b[0;31m    \u001b[0;32mreturn\u001b[0m \u001b[0;34m(\u001b[0m\u001b[0;36m4\u001b[0m \u001b[0;34m*\u001b[0m \u001b[0;34m(\u001b[0m\u001b[0mx\u001b[0m\u001b[0;34m**\u001b[0m \u001b[0;36m2\u001b[0m\u001b[0;34m)\u001b[0m\u001b[0;34m)\u001b[0m \u001b[0;34m+\u001b[0m \u001b[0;34m(\u001b[0m\u001b[0mx\u001b[0m \u001b[0;34m**\u001b[0m \u001b[0;34m-\u001b[0m\u001b[0;36m1\u001b[0m\u001b[0;34m)\u001b[0m\u001b[0;34m\u001b[0m\u001b[0;34m\u001b[0m\u001b[0m\n\u001b[0m",
            "\u001b[0;31mZeroDivisionError\u001b[0m: 0.0 cannot be raised to a negative power"
          ]
        }
      ]
    },
    {
      "cell_type": "markdown",
      "source": [
        "# **You can now do the Rest.All the Best ........**"
      ],
      "metadata": {
        "id": "Fk6f0P_Om4VE"
      }
    }
  ]
}